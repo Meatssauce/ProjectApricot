{
 "cells": [
  {
   "cell_type": "code",
   "execution_count": 3,
   "id": "03b49c6b",
   "metadata": {},
   "outputs": [],
   "source": [
    "import requests\n",
    "from tqdm import tqdm"
   ]
  },
  {
   "cell_type": "code",
   "execution_count": 2,
   "id": "ffcb479f",
   "metadata": {},
   "outputs": [],
   "source": [
    "def download_file_from_google_drive(id, destination):\n",
    "    URL = \"https://drive.google.com/u/2/uc?export=download\"\n",
    "\n",
    "    session = requests.Session()\n",
    "\n",
    "    response = session.get(URL, params = { 'id' : id }, stream = True)\n",
    "    token = get_confirm_token(response)\n",
    "\n",
    "    if token:\n",
    "        params = { 'id' : id, 'confirm' : token }\n",
    "        response = session.get(URL, params = params, stream = True)\n",
    "\n",
    "    save_response_content(response, destination)    \n",
    "\n",
    "def get_confirm_token(response):\n",
    "    for key, value in response.cookies.items():\n",
    "        if key.startswith('download_warning'):\n",
    "            return value\n",
    "\n",
    "    return None\n",
    "\n",
    "def save_response_content(response, destination):\n",
    "    CHUNK_SIZE = 32768\n",
    "\n",
    "    with open(destination, \"wb\") as f:\n",
    "        for chunk in tqdm(response.iter_content(CHUNK_SIZE)):\n",
    "            if chunk: # filter out keep-alive new chunks\n",
    "                f.write(chunk)\n",
    "\n",
    "\n",
    "def unzip_dir(filename):\n",
    "    import zipfile as zf\n",
    "    files = zf.ZipFile(filename, 'r')\n",
    "    files.extractall(filename[:-4])\n",
    "    files.close()\n",
    "\n",
    "\n",
    "def zip_dir(source_dir):\n",
    "    import shutil\n",
    "    shutil.make_archive(source_dir, 'zip', source_dir)\n"
   ]
  },
  {
   "cell_type": "code",
   "execution_count": 5,
   "id": "23c9e46f",
   "metadata": {},
   "outputs": [
    {
     "name": "stderr",
     "output_type": "stream",
     "text": [
      "19762it [00:06, 3044.34it/s]"
     ]
    },
    {
     "name": "stdout",
     "output_type": "stream",
     "text": [
      "done\n"
     ]
    },
    {
     "name": "stderr",
     "output_type": "stream",
     "text": [
      "\n"
     ]
    }
   ],
   "source": [
    "file_id = '14bDIblsHHydZVEYxb9wMUC8Z5YmJB-05'\n",
    "destination = 'datasets.zip'\n",
    "download_file_from_google_drive(file_id, destination)\n",
    "print('done')"
   ]
  },
  {
   "cell_type": "code",
   "execution_count": 6,
   "id": "e71da509",
   "metadata": {},
   "outputs": [],
   "source": [
    "unzip_dir(destination)"
   ]
  },
  {
   "cell_type": "code",
   "execution_count": 8,
   "id": "77826acb-e68c-4e1c-a417-59c8d13311cc",
   "metadata": {},
   "outputs": [],
   "source": [
    "import os\n",
    "zip_dir(os.path.join('cache'))"
   ]
  },
  {
   "cell_type": "code",
   "execution_count": null,
   "id": "c78c5405-0ce8-47da-8398-fc608bf20f7e",
   "metadata": {},
   "outputs": [],
   "source": [
    "import os\n",
    "zip_dir(os.path.join('fine-tuned-models'))"
   ]
  },
  {
   "cell_type": "code",
   "execution_count": null,
   "id": "898b6574-1da1-4c4d-9315-28532d7ff05d",
   "metadata": {},
   "outputs": [],
   "source": []
  }
 ],
 "metadata": {
  "kernelspec": {
   "display_name": "Python 3",
   "language": "python",
   "name": "python3"
  },
  "language_info": {
   "codemirror_mode": {
    "name": "ipython",
    "version": 3
   },
   "file_extension": ".py",
   "mimetype": "text/x-python",
   "name": "python",
   "nbconvert_exporter": "python",
   "pygments_lexer": "ipython3",
   "version": "3.8.10"
  }
 },
 "nbformat": 4,
 "nbformat_minor": 5
}
